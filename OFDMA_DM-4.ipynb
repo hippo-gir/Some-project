{
 "cells": [
  {
   "cell_type": "code",
   "execution_count": 2,
   "metadata": {},
   "outputs": [],
   "source": [
    "import numpy as np \n",
    "import math"
   ]
  },
  {
   "cell_type": "markdown",
   "metadata": {},
   "source": [
    "# 1."
   ]
  },
  {
   "cell_type": "markdown",
   "metadata": {},
   "source": [
    "The process of active customers is still a Poisson process as a thining process. It's new intensity is $ \\lambda p dx $ "
   ]
  },
  {
   "cell_type": "markdown",
   "metadata": {},
   "source": [
    "# 2."
   ]
  },
  {
   "cell_type": "markdown",
   "metadata": {},
   "source": [
    "If we consider that the cell is the the circle of Radius R, there are, in mean, $ \\lambda p \\pi R^2 $ active customers."
   ]
  },
  {
   "cell_type": "markdown",
   "metadata": {},
   "source": [
    "# 3. \n"
   ]
  },
  {
   "cell_type": "markdown",
   "metadata": {},
   "source": [
    "Instinctively, one can say that the farest we are from the center of the cell the more we need subcarriers to communicate at rate C. Let's compute to see if it is the case. "
   ]
  },
  {
   "cell_type": "markdown",
   "metadata": {},
   "source": [
    "Let's take k in $ {1,...,N_{max}} $ and $ x  $ such that :\n",
    "$$ N(x) = \\lceil \\frac{C}{W \\log_2\\left(1+\\frac{K}{{\\lVert x \\rVert}^\\gamma}\\right)} \\rceil = k $$\n",
    "It is equivalent to : \n",
    "$$ k-1 \\lt \\frac {C}{W \\log_2\\left(1+\\frac{K}{{\\lVert x \\rVert}^\\gamma}\\right)} \\leq k $$\n",
    "Which is after calculus equivalent to  : \n",
    "$$\\left(\\frac{K}{\\exp\\left(\\frac{C\\ln(2)}{(k-1)W}\\right)-1}\\right)^{\\frac{1}{\\gamma}} \\leq \\lVert x \\rVert \\lt \\left(\\frac{K}{\\exp\\left(\\frac{C\\ln(2)}{kW}\\right)-1}\\right)^{\\frac{1}{\\gamma}}$$\n",
    "Therefore the geometrical characteriation of the subset of the cell in which all customers require k subcarriers is a ring bounded by the circle of radius $R1=\\left(\\frac{K}{\\exp\\left(\\frac{C\\ln(2)}{kW}\\right)-1}\\right)^{\\frac{1}{\\gamma}}$  and the circle of radius $R2=\\left(\\frac{K}{\\exp\\left(\\frac{C\\ln(2)}{(k-1)W}\\right)-1}\\right)^{\\frac{1}{\\gamma}}$"
   ]
  },
  {
   "cell_type": "markdown",
   "metadata": {},
   "source": [
    "# 4."
   ]
  },
  {
   "cell_type": "markdown",
   "metadata": {},
   "source": [
    "We need to compute the lebesgue measure of the ring for k=3.\n",
    "\n",
    "We just need to substract the area of the diferent circles  : \n",
    " $$ lebesgue(ring_3) = \\pi(R1^2-R2^2)$$\n",
    "Then the distribution of A3 is a poisson randomn variable of parametre $ \\lambda p*lebesgue(ring_3) $ "
   ]
  },
  {
   "cell_type": "markdown",
   "metadata": {},
   "source": [
    "# 5. "
   ]
  },
  {
   "cell_type": "markdown",
   "metadata": {},
   "source": [
    "We can simulate the active customer on the all disque of radius R, then draw the ring for k=3 count the number of peapole in the ring and stock this in an array. We repeat this operation to have many sample of $A_3$. Then we check whith kolmogorov smirnov test if the samples follow the law of a poisson randomn varaible of parametre $ \\lambda p*lebesgue(ring_3) $ "
   ]
  },
  {
   "cell_type": "markdown",
   "metadata": {},
   "source": [
    "# 6. "
   ]
  },
  {
   "cell_type": "markdown",
   "metadata": {},
   "source": [
    "We partition the  disk of radius R in the rings for k in $ {1,...,N_{max}} $\n",
    "Therefore we have : \n",
    "$$ F(\\phi)= \\sum_{x \\in \\phi} N(x)= \\sum_{k=1}^{N_{max}} \\sum_{x \\in ring_k} N(x) $$\n",
    "But  if $ x \\in ring_k $ then $ N(x)= k $\n",
    "\n",
    "Thus : \n",
    "$$ F(\\phi)= \\sum_{k=1}^{N_{max}} \\sum_{x \\in ring_k}k = \\sum_{k=1}^{N_{max}} k\\xi _k  $$\n",
    "Where $ \\xi_k $ are  Poisson randomn variable with prametre equals to $ \\lambda p*lebesgue(ring_k) $ \n",
    "They are independent because the different rings are disjoint. "
   ]
  },
  {
   "cell_type": "markdown",
   "metadata": {},
   "source": [
    "# 7. "
   ]
  },
  {
   "cell_type": "markdown",
   "metadata": {},
   "source": [
    "When $ X_{\\mu} $  is Poisson r.v. of parametre $\\mu$ we have via tranfert : \n",
    "$$\\mathbb{E}[\\exp(\\theta X_{\\mu})]=\\sum_{k=0}^{\\infty} \\exp(\\theta k)\\exp(-\\mu)\\frac{\\mu ^k}{k!}$$\n",
    "Which is equal after calculus to : \n",
    "$$\\mathbb{E}[\\exp(\\theta X_{\\mu})]=\\exp(\\mu(\\exp(\\theta)-1))$$\n",
    "Then :\n",
    "$$ f(\\theta)=\\exp(-k\\mu \\theta)\\mathbb{E}[\\exp(\\theta X_{\\mu})]=\\exp(\\mu(\\exp(\\theta)-1-K\\theta))$$\n",
    "And : \n",
    "$$ \\frac{\\partial f}{\\partial \\theta}=\\mu \\exp(\\mu(\\exp(\\theta)-1-K\\theta))(\\exp(\\theta)-K)$$\n",
    "$$\\frac{\\partial f}{\\partial \\theta}=0 \\implies \\theta=\\ln(K)$$\n",
    "Thus : $$ \\min_{\\theta \\gt 0}\\{f(\\theta)\\}=\\exp(\\mu(K-1-K\\ln(K)))$$"
   ]
  },
  {
   "cell_type": "markdown",
   "metadata": {},
   "source": [
    "# 8."
   ]
  },
  {
   "cell_type": "markdown",
   "metadata": {},
   "source": [
    "By Markov inequality we have : \n",
    "$\\mathbb{P}(X_{\\mu}\\geq K\\mu) \\leq \\exp(-K\\mu\\theta)\\mathbb{E}[\\exp(\\theta X_{\\mu})]$\n",
    "\n",
    "And whith Q7 : \n",
    "$\\mathbb{P}(X_{\\mu}\\geq K\\mu) \\leq \\exp(\\mu(K-1-K\\ln(K)))$\n",
    "\n",
    "i.e we need to find $K_{\\mu}$ such that $K_{\\mu}-1-K_{\\mu}\\ln(K_{\\mu}) \\leq \\frac{1}{\\mu}\\ln(10^{-4})$"
   ]
  },
  {
   "cell_type": "code",
   "execution_count": 3,
   "metadata": {},
   "outputs": [
    {
     "name": "stderr",
     "output_type": "stream",
     "text": [
      "/var/folders/dc/2vgy793x7t15h4j_f_cy_88h0000gr/T/ipykernel_80315/2707124393.py:3: RuntimeWarning: divide by zero encountered in log\n",
      "  while (k-1-k*np.log(k) > (1/mu)*np.log(10**(-4))):\n",
      "/var/folders/dc/2vgy793x7t15h4j_f_cy_88h0000gr/T/ipykernel_80315/2707124393.py:3: RuntimeWarning: invalid value encountered in double_scalars\n",
      "  while (k-1-k*np.log(k) > (1/mu)*np.log(10**(-4))):\n"
     ]
    },
    {
     "data": {
      "text/plain": [
       "0"
      ]
     },
     "execution_count": 3,
     "metadata": {},
     "output_type": "execute_result"
    }
   ],
   "source": [
    "def K_mu(mu): ## a refaire \n",
    "    k=0\n",
    "    while (k-1-k*np.log(k) > (1/mu)*np.log(10**(-4))):\n",
    "        k+=1\n",
    "    return k\n",
    "\n",
    "K_mu(10**(-6))"
   ]
  },
  {
   "cell_type": "markdown",
   "metadata": {},
   "source": [
    "# 9. "
   ]
  },
  {
   "cell_type": "code",
   "execution_count": 4,
   "metadata": {},
   "outputs": [
    {
     "data": {
      "text/plain": [
       "1"
      ]
     },
     "execution_count": 4,
     "metadata": {},
     "output_type": "execute_result"
    }
   ],
   "source": [
    "#we use the parameters given to us\n",
    "lam=0.01\n",
    "R=300\n",
    "p=0.01\n",
    "C=250\n",
    "W=250\n",
    "K=10**6\n",
    "gamma=2.8\n",
    "SNR_min=10**(-1)\n",
    "\n",
    "\n",
    "N_max= math.ceil(C/W*np.log2(1+SNR_min))\n",
    "N_max"
   ]
  },
  {
   "cell_type": "code",
   "execution_count": 5,
   "metadata": {},
   "outputs": [],
   "source": [
    "def ring_radius(k,K,C,W,gamma):\n",
    "    \"\"\"return the min and max radius of Ringk as defined above\"\"\"\n",
    "    R1=(K/(np.exp(C*np.log(2)/((k-1)*W))-1))**(1/gamma)\n",
    "    R2=(K/(np.exp(C*np.log(2)/(k*W))-1))**(1/gamma)\n",
    "    return R1,R2"
   ]
  },
  {
   "cell_type": "markdown",
   "metadata": {},
   "source": [
    "## Computation of $\\mathbb{E}[\\xi_k]$ for $k = 1,\\dots,N_{max}$\n",
    "\n",
    "We remind that  "
   ]
  },
  {
   "cell_type": "code",
   "execution_count": 6,
   "metadata": {},
   "outputs": [],
   "source": [
    "\n",
    "mean_xi_k=[]\n",
    "mean_xi_k.append(lam*p*np.pi*((K/(np.exp(C*np.log(2)/(1*W))-1))**(1/gamma)**2))\n",
    "for k in range(2,N_max+1):\n",
    "    R1,R2=ring_radius(k,K,C,W,gamma)\n",
    "    mean_xi_k.append(lam*p*np.pi*(R2**2-R1**2))\n"
   ]
  },
  {
   "cell_type": "code",
   "execution_count": 7,
   "metadata": {},
   "outputs": [
    {
     "name": "stdout",
     "output_type": "stream",
     "text": [
      "0\n"
     ]
    },
    {
     "name": "stderr",
     "output_type": "stream",
     "text": [
      "/var/folders/dc/2vgy793x7t15h4j_f_cy_88h0000gr/T/ipykernel_80315/2707124393.py:3: RuntimeWarning: divide by zero encountered in log\n",
      "  while (k-1-k*np.log(k) > (1/mu)*np.log(10**(-4))):\n",
      "/var/folders/dc/2vgy793x7t15h4j_f_cy_88h0000gr/T/ipykernel_80315/2707124393.py:3: RuntimeWarning: invalid value encountered in double_scalars\n",
      "  while (k-1-k*np.log(k) > (1/mu)*np.log(10**(-4))):\n"
     ]
    }
   ],
   "source": [
    "res=K_mu(mean_xi_k[0])\n",
    "for m in mean_xi_k: \n",
    "    if K_mu(m)>res:\n",
    "        res=K_mu(m)\n",
    "print(res)\n"
   ]
  },
  {
   "cell_type": "code",
   "execution_count": 8,
   "metadata": {},
   "outputs": [],
   "source": [
    "### vecotr represnting the xi_k\n",
    "Matrix_xi_k=np.zeros((N_max,res))\n",
    "for i in range(N_max):\n",
    "    for j in range(res):\n",
    "        mu=mean_xi_k[i]\n",
    "        Matrix_xi_k[i,j]=np.exp(-mu)*(mu**j)/math.factorial(j)\n"
   ]
  },
  {
   "cell_type": "code",
   "execution_count": 9,
   "metadata": {},
   "outputs": [],
   "source": [
    "### vecotr represnting the k*xi_k\n",
    "Matrix_k_xi_k=np.zeros((N_max,res))\n",
    "for i in range(N_max):\n",
    "    for j in range(res):\n",
    "        if j%k==0:\n",
    "            Matrix_k_xi_k[i,j]=Matrix_xi_k[i,j]\n"
   ]
  },
  {
   "cell_type": "code",
   "execution_count": 10,
   "metadata": {},
   "outputs": [],
   "source": [
    "### distribution of F \n",
    "\n",
    "def F(n):\n",
    "    res=np.convolve(Matrix_k_xi_k[0,:],Matrix_k_xi_k[1,:])\n",
    "    for i in range(1,N_max-1):\n",
    "        res=np.convolve(res,Matrix_k_xi_k[i+1,:])\n",
    "    return res[n]\n"
   ]
  },
  {
   "cell_type": "markdown",
   "metadata": {},
   "source": [
    "# 10."
   ]
  },
  {
   "cell_type": "code",
   "execution_count": 11,
   "metadata": {},
   "outputs": [],
   "source": [
    "def Find_S(alpha):\n",
    "    S=0\n",
    "    while F(S)<alpha:\n",
    "        S+=1\n",
    "    return S"
   ]
  }
 ],
 "metadata": {
  "kernelspec": {
   "display_name": "Python 3 (ipykernel)",
   "language": "python",
   "name": "python3"
  },
  "language_info": {
   "codemirror_mode": {
    "name": "ipython",
    "version": 3
   },
   "file_extension": ".py",
   "mimetype": "text/x-python",
   "name": "python",
   "nbconvert_exporter": "python",
   "pygments_lexer": "ipython3",
   "version": "3.10.9"
  }
 },
 "nbformat": 4,
 "nbformat_minor": 2
}
